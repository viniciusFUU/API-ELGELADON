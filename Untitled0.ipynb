{
  "nbformat": 4,
  "nbformat_minor": 0,
  "metadata": {
    "colab": {
      "provenance": [],
      "authorship_tag": "ABX9TyPsRVToowj3DeuI+x6buEed",
      "include_colab_link": true
    },
    "kernelspec": {
      "name": "python3",
      "display_name": "Python 3"
    },
    "language_info": {
      "name": "python"
    }
  },
  "cells": [
    {
      "cell_type": "markdown",
      "metadata": {
        "id": "view-in-github",
        "colab_type": "text"
      },
      "source": [
        "<a href=\"https://colab.research.google.com/github/viniciusFUU/API-ELGELADON/blob/main/Untitled0.ipynb\" target=\"_parent\"><img src=\"https://colab.research.google.com/assets/colab-badge.svg\" alt=\"Open In Colab\"/></a>"
      ]
    },
    {
      "cell_type": "code",
      "source": [
        "import numpy as np\n",
        "import pandas as pd\n",
        "import statistics as st"
      ],
      "metadata": {
        "id": "e7AVPxIOv8re"
      },
      "execution_count": 46,
      "outputs": []
    },
    {
      "cell_type": "code",
      "source": [
        "def media(x):\n",
        "  soma = x[0] + x[1]\n",
        "  return soma"
      ],
      "metadata": {
        "id": "KwG5x1Zy1KuG"
      },
      "execution_count": 44,
      "outputs": []
    },
    {
      "cell_type": "code",
      "source": [
        "a = [12, 31, 59, 85]\n",
        "c = [21, 13, 95, 58]\n",
        "b = ['a', 'b', 'c', 'd']\n",
        "print(media(c))"
      ],
      "metadata": {
        "colab": {
          "base_uri": "https://localhost:8080/"
        },
        "id": "okmOUkx4xHNm",
        "outputId": "1f4631f6-5bb1-48ae-87d9-0406f71f9bce"
      },
      "execution_count": 45,
      "outputs": [
        {
          "output_type": "stream",
          "name": "stdout",
          "text": [
            "34\n"
          ]
        }
      ]
    },
    {
      "cell_type": "code",
      "source": [
        "from ast import Del\n",
        "notas = {\n",
        "    'Vinicius': 10,\n",
        "    'Bianca': 10,\n",
        "    'Igor': 7,\n",
        "    'Lucas': 10,\n",
        "}\n",
        "\n",
        "del notas['Vinicius']"
      ],
      "metadata": {
        "id": "3TopZHEx40Ug"
      },
      "execution_count": 52,
      "outputs": []
    },
    {
      "cell_type": "code",
      "source": [
        "print(notas)"
      ],
      "metadata": {
        "colab": {
          "base_uri": "https://localhost:8080/"
        },
        "id": "PChap2lU5k0t",
        "outputId": "367b1433-0edb-4b98-bbb4-df3127717fbd"
      },
      "execution_count": 53,
      "outputs": [
        {
          "output_type": "stream",
          "name": "stdout",
          "text": [
            "{'Bianca': 10, 'Igor': 7, 'Lucas': 10}\n"
          ]
        }
      ]
    },
    {
      "cell_type": "code",
      "source": [
        "notas.get('Igor', 'Não foi encontrado')"
      ],
      "metadata": {
        "colab": {
          "base_uri": "https://localhost:8080/"
        },
        "id": "N2oqDlhe5pWi",
        "outputId": "f53679ac-6ac5-4a8c-b7e8-0ba6841a3be2"
      },
      "execution_count": 55,
      "outputs": [
        {
          "output_type": "execute_result",
          "data": {
            "text/plain": [
              "7"
            ]
          },
          "metadata": {},
          "execution_count": 55
        }
      ]
    },
    {
      "cell_type": "code",
      "source": [
        "bigdata = {'Spark', 'Hive', 'Sqoop'}\n",
        "bigdata"
      ],
      "metadata": {
        "colab": {
          "base_uri": "https://localhost:8080/"
        },
        "id": "kiRbF76O5-PF",
        "outputId": "a42cec0f-2e5f-4229-e6ae-d45a3156d655"
      },
      "execution_count": 62,
      "outputs": [
        {
          "output_type": "execute_result",
          "data": {
            "text/plain": [
              "{'Hive', 'Spark', 'Sqoop'}"
            ]
          },
          "metadata": {},
          "execution_count": 62
        }
      ]
    },
    {
      "cell_type": "code",
      "source": [
        "print('Spark' in bigdata)"
      ],
      "metadata": {
        "colab": {
          "base_uri": "https://localhost:8080/"
        },
        "id": "bEtvE8ji6R6A",
        "outputId": "5b080e36-7ee0-4acb-b6a6-7a474482aa78"
      },
      "execution_count": 58,
      "outputs": [
        {
          "output_type": "stream",
          "name": "stdout",
          "text": [
            "True\n"
          ]
        }
      ]
    },
    {
      "cell_type": "code",
      "source": [
        "bigdata.add('Vinicius')\n",
        "print(bigdata)"
      ],
      "metadata": {
        "colab": {
          "base_uri": "https://localhost:8080/"
        },
        "id": "xASkbe9G6YjS",
        "outputId": "21065a0e-0ce4-4323-a9d1-4e7046b41ada"
      },
      "execution_count": 59,
      "outputs": [
        {
          "output_type": "stream",
          "name": "stdout",
          "text": [
            "{'Sqoop', 'Vinicius', 'Spark', 'Hive'}\n"
          ]
        }
      ]
    },
    {
      "cell_type": "code",
      "source": [
        "bigdata"
      ],
      "metadata": {
        "colab": {
          "base_uri": "https://localhost:8080/"
        },
        "id": "o-mm6cTZ6ed0",
        "outputId": "a0e77af9-708b-4bce-eda0-061b132a7f29"
      },
      "execution_count": 61,
      "outputs": [
        {
          "output_type": "execute_result",
          "data": {
            "text/plain": [
              "{'Hive', 'Spark', 'Sqoop', 'Vinicius'}"
            ]
          },
          "metadata": {},
          "execution_count": 61
        }
      ]
    },
    {
      "cell_type": "code",
      "source": [
        "mt = np.array([12, 34, 26, 18, 10])\n",
        "print(mt)\n",
        "print(type(mt))"
      ],
      "metadata": {
        "colab": {
          "base_uri": "https://localhost:8080/"
        },
        "id": "Z_23B7bq7BBa",
        "outputId": "d109406f-7583-4d21-a9cf-d58ce8ab044f"
      },
      "execution_count": 63,
      "outputs": [
        {
          "output_type": "stream",
          "name": "stdout",
          "text": [
            "[12 34 26 18 10]\n",
            "<class 'numpy.ndarray'>\n"
          ]
        }
      ]
    },
    {
      "cell_type": "code",
      "source": [
        "mtfloat = np.array([12, 34, 26, 18, 10], dtype=np.float64)\n",
        "print(mtfloat)\n",
        "print(type(mtfloat))\n",
        "\n",
        "mtint = np.array([1, 2, 3, 4, 5], dtype=np.int32)\n",
        "print(mtint)\n",
        "print(type(mtint))"
      ],
      "metadata": {
        "colab": {
          "base_uri": "https://localhost:8080/"
        },
        "id": "JiAF0VRS7WC6",
        "outputId": "8a940c20-2ba0-4de2-d967-33fc795a8bf1"
      },
      "execution_count": 67,
      "outputs": [
        {
          "output_type": "stream",
          "name": "stdout",
          "text": [
            "[12. 34. 26. 18. 10.]\n",
            "<class 'numpy.ndarray'>\n",
            "[1 2 3 4 5]\n",
            "<class 'numpy.ndarray'>\n"
          ]
        }
      ]
    },
    {
      "cell_type": "code",
      "source": [
        "mt7 = np.array([[1, 2, 3], [4, 5, 6], [7, 8, 9]])\n",
        "print(mt7)"
      ],
      "metadata": {
        "colab": {
          "base_uri": "https://localhost:8080/"
        },
        "id": "IvihnQZy8Gts",
        "outputId": "2b78a635-7d17-45b3-ffd9-51f14d5bc882"
      },
      "execution_count": 69,
      "outputs": [
        {
          "output_type": "stream",
          "name": "stdout",
          "text": [
            "[[1 2 3]\n",
            " [4 5 6]\n",
            " [7 8 9]]\n"
          ]
        }
      ]
    },
    {
      "cell_type": "code",
      "source": [
        "#n inicializados, mas n quer dizer q são vazios\n",
        "vazio = np.empty([3,2], dtype=int)\n",
        "print(vazio)\n",
        "print(\"--------\")\n",
        "\n",
        "#cria uma matriz 4x3 com valores 0\n",
        "zeros = np.zeros([4,3])\n",
        "print(zeros)\n",
        "\n",
        "#valores iguais a um\n",
        "um = np.ones([4,3])\n",
        "print(um)\n",
        "\n",
        "#matriz diagonal com valor um\n",
        "diagonal = np.eye(4)\n",
        "print(diagonal)"
      ],
      "metadata": {
        "colab": {
          "base_uri": "https://localhost:8080/"
        },
        "id": "yhXM4VGK8q22",
        "outputId": "6342521e-81f8-43fa-a3f2-41015c14f2b5"
      },
      "execution_count": 76,
      "outputs": [
        {
          "output_type": "stream",
          "name": "stdout",
          "text": [
            "[[     97034817156534                   0]\n",
            " [7953747407973349664 7953638461564744992]\n",
            " [        44651738400     134866268061811]]\n",
            "--------\n",
            "[[0. 0. 0.]\n",
            " [0. 0. 0.]\n",
            " [0. 0. 0.]\n",
            " [0. 0. 0.]]\n",
            "[[1. 1. 1.]\n",
            " [1. 1. 1.]\n",
            " [1. 1. 1.]\n",
            " [1. 1. 1.]]\n",
            "[[1. 0. 0. 0.]\n",
            " [0. 1. 0. 0.]\n",
            " [0. 0. 1. 0.]\n",
            " [0. 0. 0. 1.]]\n"
          ]
        }
      ]
    },
    {
      "cell_type": "code",
      "source": [
        "ale = np.random.random((5))\n",
        "print(ale)"
      ],
      "metadata": {
        "colab": {
          "base_uri": "https://localhost:8080/"
        },
        "id": "Fz7wI-Lg9uFl",
        "outputId": "d85c910d-c4db-4ac7-d063-2cda1e6fbab6"
      },
      "execution_count": 77,
      "outputs": [
        {
          "output_type": "stream",
          "name": "stdout",
          "text": [
            "[0.48449572 0.56698221 0.05641536 0.61710649 0.22607498]\n"
          ]
        }
      ]
    },
    {
      "cell_type": "code",
      "source": [
        "#função que filtra se tiver mais de um mesmo número na lista\n",
        "lista1 = np.array([1,2,3,4,5,6,7,8,9,2,3,4,5,6,12,13,14,15])\n",
        "lista1 = np.unique(lista1)\n",
        "\n",
        "print(lista1)"
      ],
      "metadata": {
        "colab": {
          "base_uri": "https://localhost:8080/"
        },
        "id": "L4fAu0rS-qZ2",
        "outputId": "afbd8727-b913-425e-d81e-c998ba93a3e7"
      },
      "execution_count": 78,
      "outputs": [
        {
          "output_type": "stream",
          "name": "stdout",
          "text": [
            "[ 1  2  3  4  5  6  7  8  9 12 13 14 15]\n"
          ]
        }
      ]
    },
    {
      "cell_type": "code",
      "source": [
        "#matriz bidmensional\n",
        "k = np.array([[1, 2, 3], [4, 5, 6], [7,8,9]])\n",
        "print(k)\n",
        "\n",
        "#mostrar elemento especifico da matriz\n",
        "print(k[0][0])\n",
        "print(k.shape)"
      ],
      "metadata": {
        "colab": {
          "base_uri": "https://localhost:8080/"
        },
        "id": "rAeiY7vf_W1w",
        "outputId": "a21b1832-4d51-4383-df2d-025f309ecec5"
      },
      "execution_count": 82,
      "outputs": [
        {
          "output_type": "stream",
          "name": "stdout",
          "text": [
            "[[1 2 3]\n",
            " [4 5 6]\n",
            " [7 8 9]]\n",
            "1\n",
            "(3, 3)\n"
          ]
        }
      ]
    },
    {
      "cell_type": "code",
      "source": [
        "#matriz bidmensional\n",
        "k = np.array([[1, 2, 3], [4, 5, 6], [7,8,9]])\n",
        "j = np.array([[4,5,6], [7,8,9], [1,2,3]])\n",
        "\n",
        "#multiplicação de matrizes\n",
        "resto = k*j\n",
        "print(resto)"
      ],
      "metadata": {
        "colab": {
          "base_uri": "https://localhost:8080/"
        },
        "id": "8Iic885kBoMU",
        "outputId": "e356e36e-3bfc-4c45-9aa6-48e8446b75ae"
      },
      "execution_count": 84,
      "outputs": [
        {
          "output_type": "stream",
          "name": "stdout",
          "text": [
            "[[ 4 10 18]\n",
            " [28 40 54]\n",
            " [ 7 16 27]]\n"
          ]
        }
      ]
    },
    {
      "cell_type": "code",
      "source": [],
      "metadata": {
        "id": "ynPFuPFWCLwy"
      },
      "execution_count": null,
      "outputs": []
    }
  ]
}